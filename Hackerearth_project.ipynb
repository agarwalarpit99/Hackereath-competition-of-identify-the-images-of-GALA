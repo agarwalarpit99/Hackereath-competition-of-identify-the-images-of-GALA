{
  "nbformat": 4,
  "nbformat_minor": 0,
  "metadata": {
    "colab": {
      "name": "Hackerearth project.ipynb",
      "provenance": [],
      "collapsed_sections": [],
      "machine_shape": "hm",
      "mount_file_id": "10sDk0DBq1cfbkvvMArzwXV3o_YGV056K",
      "authorship_tag": "ABX9TyPSCskmoVkJwHKMhq9VCQ2N",
      "include_colab_link": true
    },
    "kernelspec": {
      "name": "python3",
      "display_name": "Python 3"
    },
    "accelerator": "GPU"
  },
  "cells": [
    {
      "cell_type": "markdown",
      "metadata": {
        "id": "view-in-github",
        "colab_type": "text"
      },
      "source": [
        "<a href=\"https://colab.research.google.com/github/agarwalarpit99/Hackereath-competition-of-identify-the-images-of-GALA/blob/master/Hackerearth_project.ipynb\" target=\"_parent\"><img src=\"https://colab.research.google.com/assets/colab-badge.svg\" alt=\"Open In Colab\"/></a>"
      ]
    },
    {
      "cell_type": "code",
      "metadata": {
        "id": "ZSuQhTXFgtTu",
        "colab_type": "code",
        "colab": {}
      },
      "source": [
        "import keras \n",
        "from keras.models import Sequential \n",
        "from keras.layers import Dense, Dropout, Flatten \n",
        "from keras.layers import Conv2D, MaxPooling2D \n",
        "from keras.utils import to_categorical \n",
        "from keras.preprocessing import image \n",
        "import numpy as np \n",
        "import pandas as pd \n",
        "import matplotlib.pyplot as plt \n",
        "from sklearn.model_selection import train_test_split \n",
        "from keras.utils import to_categorical \n",
        "from tqdm import tqdm"
      ],
      "execution_count": 0,
      "outputs": []
    },
    {
      "cell_type": "code",
      "metadata": {
        "id": "BsZ-AN-nhAKH",
        "colab_type": "code",
        "colab": {}
      },
      "source": [
        "train=pd.read_csv('/content/drive/My Drive/Colab Notebooks/dataset/train.csv')\n",
        "test=pd.read_csv('/content/drive/My Drive/Colab Notebooks/dataset/test.csv')"
      ],
      "execution_count": 0,
      "outputs": []
    },
    {
      "cell_type": "code",
      "metadata": {
        "id": "0zSDbjGXi6G1",
        "colab_type": "code",
        "outputId": "cd8dbf5e-4ba6-41d0-e389-b1cfe87dfca5",
        "colab": {
          "base_uri": "https://localhost:8080/",
          "height": 198
        }
      },
      "source": [
        "train.head()"
      ],
      "execution_count": 10,
      "outputs": [
        {
          "output_type": "execute_result",
          "data": {
            "text/html": [
              "<div>\n",
              "<style scoped>\n",
              "    .dataframe tbody tr th:only-of-type {\n",
              "        vertical-align: middle;\n",
              "    }\n",
              "\n",
              "    .dataframe tbody tr th {\n",
              "        vertical-align: top;\n",
              "    }\n",
              "\n",
              "    .dataframe thead th {\n",
              "        text-align: right;\n",
              "    }\n",
              "</style>\n",
              "<table border=\"1\" class=\"dataframe\">\n",
              "  <thead>\n",
              "    <tr style=\"text-align: right;\">\n",
              "      <th></th>\n",
              "      <th>Image</th>\n",
              "      <th>Class</th>\n",
              "    </tr>\n",
              "  </thead>\n",
              "  <tbody>\n",
              "    <tr>\n",
              "      <th>0</th>\n",
              "      <td>image7042.jpg</td>\n",
              "      <td>Food</td>\n",
              "    </tr>\n",
              "    <tr>\n",
              "      <th>1</th>\n",
              "      <td>image3327.jpg</td>\n",
              "      <td>misc</td>\n",
              "    </tr>\n",
              "    <tr>\n",
              "      <th>2</th>\n",
              "      <td>image10335.jpg</td>\n",
              "      <td>Attire</td>\n",
              "    </tr>\n",
              "    <tr>\n",
              "      <th>3</th>\n",
              "      <td>image8019.jpg</td>\n",
              "      <td>Food</td>\n",
              "    </tr>\n",
              "    <tr>\n",
              "      <th>4</th>\n",
              "      <td>image2128.jpg</td>\n",
              "      <td>Attire</td>\n",
              "    </tr>\n",
              "  </tbody>\n",
              "</table>\n",
              "</div>"
            ],
            "text/plain": [
              "            Image   Class\n",
              "0   image7042.jpg    Food\n",
              "1   image3327.jpg    misc\n",
              "2  image10335.jpg  Attire\n",
              "3   image8019.jpg    Food\n",
              "4   image2128.jpg  Attire"
            ]
          },
          "metadata": {
            "tags": []
          },
          "execution_count": 10
        }
      ]
    },
    {
      "cell_type": "code",
      "metadata": {
        "id": "S-jDRxohjcSG",
        "colab_type": "code",
        "outputId": "9707e353-0ac1-478a-bdf5-a79ee40020b2",
        "colab": {
          "base_uri": "https://localhost:8080/",
          "height": 108
        }
      },
      "source": [
        "train['Class'].value_counts()"
      ],
      "execution_count": 106,
      "outputs": [
        {
          "output_type": "execute_result",
          "data": {
            "text/plain": [
              "Food                    2278\n",
              "Attire                  1691\n",
              "misc                    1271\n",
              "Decorationandsignage     743\n",
              "Name: Class, dtype: int64"
            ]
          },
          "metadata": {
            "tags": []
          },
          "execution_count": 106
        }
      ]
    },
    {
      "cell_type": "code",
      "metadata": {
        "id": "rz8uFZqtjir4",
        "colab_type": "code",
        "outputId": "fd2fa772-f444-4256-a5a8-4ff535a09992",
        "colab": {
          "base_uri": "https://localhost:8080/",
          "height": 35
        }
      },
      "source": [
        "train['Image'][0]"
      ],
      "execution_count": 12,
      "outputs": [
        {
          "output_type": "execute_result",
          "data": {
            "text/plain": [
              "'image7042.jpg'"
            ]
          },
          "metadata": {
            "tags": []
          },
          "execution_count": 12
        }
      ]
    },
    {
      "cell_type": "code",
      "metadata": {
        "id": "7mu9sF6CjvXc",
        "colab_type": "code",
        "outputId": "e8c6afec-a98f-4b6e-c273-be956f70f83e",
        "colab": {
          "base_uri": "https://localhost:8080/",
          "height": 35
        }
      },
      "source": [
        "train.shape"
      ],
      "execution_count": 13,
      "outputs": [
        {
          "output_type": "execute_result",
          "data": {
            "text/plain": [
              "(5983, 2)"
            ]
          },
          "metadata": {
            "tags": []
          },
          "execution_count": 13
        }
      ]
    },
    {
      "cell_type": "code",
      "metadata": {
        "id": "xLDCSLg9A5KL",
        "colab_type": "code",
        "colab": {}
      },
      "source": [
        ""
      ],
      "execution_count": 0,
      "outputs": []
    },
    {
      "cell_type": "code",
      "metadata": {
        "id": "0vczJy8lmIhH",
        "colab_type": "code",
        "colab": {}
      },
      "source": [
        ""
      ],
      "execution_count": 0,
      "outputs": []
    },
    {
      "cell_type": "code",
      "metadata": {
        "id": "i-kWn8CNA9ar",
        "colab_type": "code",
        "colab": {
          "base_uri": "https://localhost:8080/",
          "height": 35
        },
        "outputId": "46801e33-1f9a-447c-c836-8f3d9b1fb83a"
      },
      "source": [
        "test_image = [] \n",
        "for i in tqdm(range(test.shape[0])):\n",
        "     img = image.load_img('/content/drive/My Drive/Colab Notebooks/dataset/Test Images/'+test['Image'][i], target_size=(100,100,3))\n",
        "     img = image.img_to_array(img)\n",
        "     img = img/255\n",
        "     test_image.append(img)\n",
        "XT = np.array(test_image)"
      ],
      "execution_count": 173,
      "outputs": [
        {
          "output_type": "stream",
          "text": [
            "100%|██████████| 3219/3219 [00:03<00:00, 817.77it/s]\n"
          ],
          "name": "stderr"
        }
      ]
    },
    {
      "cell_type": "code",
      "metadata": {
        "id": "nw8WZZzPl8ed",
        "colab_type": "code",
        "colab": {
          "base_uri": "https://localhost:8080/",
          "height": 35
        },
        "outputId": "cb164b44-c886-410b-dfc4-69e88f0a8adf"
      },
      "source": [
        "train_image = [] \n",
        "for i in tqdm(range(train.shape[0])):\n",
        "     img = image.load_img('/content/drive/My Drive/Colab Notebooks/dataset/Train Images/'+train['Image'][i], target_size=(100,100,3))\n",
        "     img = image.img_to_array(img)\n",
        "     img = img/255\n",
        "     train_image.append(img)\n",
        "X = np.array(train_image)"
      ],
      "execution_count": 174,
      "outputs": [
        {
          "output_type": "stream",
          "text": [
            "100%|██████████| 5983/5983 [00:09<00:00, 664.07it/s]\n"
          ],
          "name": "stderr"
        }
      ]
    },
    {
      "cell_type": "code",
      "metadata": {
        "id": "Gr18Q69Un1p3",
        "colab_type": "code",
        "outputId": "590233b6-b575-47a8-9115-7d4e1e6f014d",
        "colab": {
          "base_uri": "https://localhost:8080/",
          "height": 100
        }
      },
      "source": [
        ""
      ],
      "execution_count": 0,
      "outputs": [
        {
          "output_type": "stream",
          "text": [
            "Using TensorFlow backend.\n"
          ],
          "name": "stderr"
        },
        {
          "output_type": "display_data",
          "data": {
            "text/html": [
              "<p style=\"color: red;\">\n",
              "The default version of TensorFlow in Colab will soon switch to TensorFlow 2.x.<br>\n",
              "We recommend you <a href=\"https://www.tensorflow.org/guide/migrate\" target=\"_blank\">upgrade</a> now \n",
              "or ensure your notebook will continue to use TensorFlow 1.x via the <code>%tensorflow_version 1.x</code> magic:\n",
              "<a href=\"https://colab.research.google.com/notebooks/tensorflow_version.ipynb\" target=\"_blank\">more info</a>.</p>\n"
            ],
            "text/plain": [
              "<IPython.core.display.HTML object>"
            ]
          },
          "metadata": {
            "tags": []
          }
        }
      ]
    },
    {
      "cell_type": "code",
      "metadata": {
        "id": "vTT-R2a05kcJ",
        "colab_type": "code",
        "colab": {}
      },
      "source": [
        "from keras.utils import to_categorical\n",
        "y=train['Class'].values \n",
        "\n",
        " "
      ],
      "execution_count": 0,
      "outputs": []
    },
    {
      "cell_type": "code",
      "metadata": {
        "id": "DTFGblFr54FT",
        "colab_type": "code",
        "outputId": "0b3c28ec-e2b9-4f17-e6f0-9b7a5672950f",
        "colab": {
          "base_uri": "https://localhost:8080/",
          "height": 54
        }
      },
      "source": [
        "y"
      ],
      "execution_count": 20,
      "outputs": [
        {
          "output_type": "execute_result",
          "data": {
            "text/plain": [
              "array(['Food', 'misc', 'Attire', ..., 'Food', 'Food', 'Attire'],\n",
              "      dtype=object)"
            ]
          },
          "metadata": {
            "tags": []
          },
          "execution_count": 20
        }
      ]
    },
    {
      "cell_type": "code",
      "metadata": {
        "id": "l2kFwzA76KMb",
        "colab_type": "code",
        "colab": {}
      },
      "source": [
        "from sklearn.preprocessing import LabelEncoder\n",
        "lb=LabelEncoder()\n",
        "train['label']=lb.fit_transform(train['Class']) "
      ],
      "execution_count": 0,
      "outputs": []
    },
    {
      "cell_type": "code",
      "metadata": {
        "id": "bhWeB2wxPph5",
        "colab_type": "code",
        "colab": {
          "base_uri": "https://localhost:8080/",
          "height": 198
        },
        "outputId": "87ab254b-6131-4923-ee94-573e0022f049"
      },
      "source": [
        "train.head()"
      ],
      "execution_count": 27,
      "outputs": [
        {
          "output_type": "execute_result",
          "data": {
            "text/html": [
              "<div>\n",
              "<style scoped>\n",
              "    .dataframe tbody tr th:only-of-type {\n",
              "        vertical-align: middle;\n",
              "    }\n",
              "\n",
              "    .dataframe tbody tr th {\n",
              "        vertical-align: top;\n",
              "    }\n",
              "\n",
              "    .dataframe thead th {\n",
              "        text-align: right;\n",
              "    }\n",
              "</style>\n",
              "<table border=\"1\" class=\"dataframe\">\n",
              "  <thead>\n",
              "    <tr style=\"text-align: right;\">\n",
              "      <th></th>\n",
              "      <th>Image</th>\n",
              "      <th>Class</th>\n",
              "      <th>label</th>\n",
              "    </tr>\n",
              "  </thead>\n",
              "  <tbody>\n",
              "    <tr>\n",
              "      <th>0</th>\n",
              "      <td>image7042.jpg</td>\n",
              "      <td>Food</td>\n",
              "      <td>2</td>\n",
              "    </tr>\n",
              "    <tr>\n",
              "      <th>1</th>\n",
              "      <td>image3327.jpg</td>\n",
              "      <td>misc</td>\n",
              "      <td>3</td>\n",
              "    </tr>\n",
              "    <tr>\n",
              "      <th>2</th>\n",
              "      <td>image10335.jpg</td>\n",
              "      <td>Attire</td>\n",
              "      <td>0</td>\n",
              "    </tr>\n",
              "    <tr>\n",
              "      <th>3</th>\n",
              "      <td>image8019.jpg</td>\n",
              "      <td>Food</td>\n",
              "      <td>2</td>\n",
              "    </tr>\n",
              "    <tr>\n",
              "      <th>4</th>\n",
              "      <td>image2128.jpg</td>\n",
              "      <td>Attire</td>\n",
              "      <td>0</td>\n",
              "    </tr>\n",
              "  </tbody>\n",
              "</table>\n",
              "</div>"
            ],
            "text/plain": [
              "            Image   Class  label\n",
              "0   image7042.jpg    Food      2\n",
              "1   image3327.jpg    misc      3\n",
              "2  image10335.jpg  Attire      0\n",
              "3   image8019.jpg    Food      2\n",
              "4   image2128.jpg  Attire      0"
            ]
          },
          "metadata": {
            "tags": []
          },
          "execution_count": 27
        }
      ]
    },
    {
      "cell_type": "code",
      "metadata": {
        "id": "cev4LubAQhwd",
        "colab_type": "code",
        "colab": {}
      },
      "source": [
        "y=train['label'].values"
      ],
      "execution_count": 0,
      "outputs": []
    },
    {
      "cell_type": "code",
      "metadata": {
        "id": "Fzf4cBU2QoFo",
        "colab_type": "code",
        "colab": {
          "base_uri": "https://localhost:8080/",
          "height": 108
        },
        "outputId": "5caec8e6-fa79-4e69-bea2-6930763d0ed1"
      },
      "source": [
        "train['label'].value_counts()"
      ],
      "execution_count": 118,
      "outputs": [
        {
          "output_type": "execute_result",
          "data": {
            "text/plain": [
              "2    2278\n",
              "0    1691\n",
              "3    1271\n",
              "1     743\n",
              "Name: label, dtype: int64"
            ]
          },
          "metadata": {
            "tags": []
          },
          "execution_count": 118
        }
      ]
    },
    {
      "cell_type": "code",
      "metadata": {
        "id": "OMbCsx5iQotm",
        "colab_type": "code",
        "colab": {}
      },
      "source": [
        "y=to_categorical(y)"
      ],
      "execution_count": 0,
      "outputs": []
    },
    {
      "cell_type": "code",
      "metadata": {
        "id": "zUa7tEFKQyXc",
        "colab_type": "code",
        "colab": {
          "base_uri": "https://localhost:8080/",
          "height": 145
        },
        "outputId": "17e4b91d-2e16-475c-f2d4-653873d197d2"
      },
      "source": [
        "y"
      ],
      "execution_count": 120,
      "outputs": [
        {
          "output_type": "execute_result",
          "data": {
            "text/plain": [
              "array([[0., 0., 1., 0.],\n",
              "       [0., 0., 0., 1.],\n",
              "       [1., 0., 0., 0.],\n",
              "       ...,\n",
              "       [0., 0., 1., 0.],\n",
              "       [0., 0., 1., 0.],\n",
              "       [1., 0., 0., 0.]], dtype=float32)"
            ]
          },
          "metadata": {
            "tags": []
          },
          "execution_count": 120
        }
      ]
    },
    {
      "cell_type": "code",
      "metadata": {
        "id": "BUWSvhBSQzQZ",
        "colab_type": "code",
        "colab": {}
      },
      "source": [
        "X[0]"
      ],
      "execution_count": 0,
      "outputs": []
    },
    {
      "cell_type": "code",
      "metadata": {
        "id": "PCo672QBQ3s6",
        "colab_type": "code",
        "colab": {
          "base_uri": "https://localhost:8080/",
          "height": 35
        },
        "outputId": "e748aacd-31b5-45aa-9329-781805f56fd7"
      },
      "source": [
        "X.shape"
      ],
      "execution_count": 34,
      "outputs": [
        {
          "output_type": "execute_result",
          "data": {
            "text/plain": [
              "(5983, 28, 28, 1)"
            ]
          },
          "metadata": {
            "tags": []
          },
          "execution_count": 34
        }
      ]
    },
    {
      "cell_type": "code",
      "metadata": {
        "id": "rH6PxMarQ57G",
        "colab_type": "code",
        "colab": {}
      },
      "source": [
        "model=Sequential()\n",
        "model.add(Conv2D(96,kernel_size=(3,3),activation='relu',input_shape=(80,80,1)))\n",
        "model.add(Dropout(0.3))\n",
        "model.add(Conv2D(128,kernel_size=(3,3)))\n",
        "model.add(Dropout(0.3))\n",
        "model.add(MaxPooling2D(pool_size=(2,2)))\n",
        "model.add(Conv2D(96,kernel_size=(3,3),activation='relu'))\n",
        "model.add(Conv2D(128,kernel_size=(3,3)))\n",
        "model.add(Dropout(0.2))\n",
        "model.add(MaxPooling2D(pool_size=(2,2)))\n",
        "model.add(Flatten())\n",
        "model.add(Dense(units=128,activation='relu'))\n",
        "model.add(Dense(units=96,activation='relu'))\n",
        "model.add(Dense(units=4,activation='softmax'))"
      ],
      "execution_count": 0,
      "outputs": []
    },
    {
      "cell_type": "code",
      "metadata": {
        "id": "e3jAZU5PTFxf",
        "colab_type": "code",
        "colab": {}
      },
      "source": [
        "model.compile(optimizer='adam',loss='categorical_crossentropy',metrics=['accuracy'])"
      ],
      "execution_count": 0,
      "outputs": []
    },
    {
      "cell_type": "code",
      "metadata": {
        "id": "EZOrjT00TdNI",
        "colab_type": "code",
        "colab": {
          "base_uri": "https://localhost:8080/",
          "height": 1000
        },
        "outputId": "f0f5ad5f-e68c-4a95-92fc-0318e3e7f5b8"
      },
      "source": [
        "model.fit(X,y,epochs=30,validation_split=0.2)"
      ],
      "execution_count": 123,
      "outputs": [
        {
          "output_type": "stream",
          "text": [
            "Train on 4786 samples, validate on 1197 samples\n",
            "Epoch 1/30\n",
            "4786/4786 [==============================] - 7s 1ms/step - loss: 1.3583 - acc: 0.3751 - val_loss: 1.3125 - val_acc: 0.3601\n",
            "Epoch 2/30\n",
            "4786/4786 [==============================] - 6s 1ms/step - loss: 1.2682 - acc: 0.4035 - val_loss: 1.6342 - val_acc: 0.3250\n",
            "Epoch 3/30\n",
            "4786/4786 [==============================] - 5s 1ms/step - loss: 1.2450 - acc: 0.4143 - val_loss: 1.6778 - val_acc: 0.3008\n",
            "Epoch 4/30\n",
            "4786/4786 [==============================] - 5s 1ms/step - loss: 1.2300 - acc: 0.4277 - val_loss: 2.2641 - val_acc: 0.2941\n",
            "Epoch 5/30\n",
            "4786/4786 [==============================] - 5s 1ms/step - loss: 1.1319 - acc: 0.5090 - val_loss: 1.7837 - val_acc: 0.3074\n",
            "Epoch 6/30\n",
            "4786/4786 [==============================] - 5s 1ms/step - loss: 1.0076 - acc: 0.5627 - val_loss: 1.9664 - val_acc: 0.3860\n",
            "Epoch 7/30\n",
            "4786/4786 [==============================] - 5s 1ms/step - loss: 0.7762 - acc: 0.6843 - val_loss: 2.1928 - val_acc: 0.3592\n",
            "Epoch 8/30\n",
            "4786/4786 [==============================] - 5s 1ms/step - loss: 0.5023 - acc: 0.8078 - val_loss: 2.7440 - val_acc: 0.3743\n",
            "Epoch 9/30\n",
            "4786/4786 [==============================] - 5s 1ms/step - loss: 0.2904 - acc: 0.8978 - val_loss: 4.4309 - val_acc: 0.3484\n",
            "Epoch 10/30\n",
            "4786/4786 [==============================] - 5s 1ms/step - loss: 0.1806 - acc: 0.9427 - val_loss: 5.3834 - val_acc: 0.3534\n",
            "Epoch 11/30\n",
            "4786/4786 [==============================] - 5s 1ms/step - loss: 0.1151 - acc: 0.9651 - val_loss: 4.9723 - val_acc: 0.3492\n",
            "Epoch 12/30\n",
            "4786/4786 [==============================] - 5s 1ms/step - loss: 0.1117 - acc: 0.9645 - val_loss: 4.8187 - val_acc: 0.4077\n",
            "Epoch 13/30\n",
            "4786/4786 [==============================] - 5s 1ms/step - loss: 0.0796 - acc: 0.9760 - val_loss: 6.2196 - val_acc: 0.4135\n",
            "Epoch 14/30\n",
            "4786/4786 [==============================] - 5s 1ms/step - loss: 0.0999 - acc: 0.9691 - val_loss: 5.9529 - val_acc: 0.3659\n",
            "Epoch 15/30\n",
            "4786/4786 [==============================] - 5s 1ms/step - loss: 0.0897 - acc: 0.9730 - val_loss: 5.4946 - val_acc: 0.3876\n",
            "Epoch 16/30\n",
            "4786/4786 [==============================] - 5s 1ms/step - loss: 0.0836 - acc: 0.9751 - val_loss: 6.2249 - val_acc: 0.3876\n",
            "Epoch 17/30\n",
            "4786/4786 [==============================] - 5s 1ms/step - loss: 0.0838 - acc: 0.9749 - val_loss: 6.2900 - val_acc: 0.3718\n",
            "Epoch 18/30\n",
            "4786/4786 [==============================] - 5s 1ms/step - loss: 0.0539 - acc: 0.9845 - val_loss: 7.3131 - val_acc: 0.3392\n",
            "Epoch 19/30\n",
            "4786/4786 [==============================] - 5s 1ms/step - loss: 0.0520 - acc: 0.9837 - val_loss: 6.1098 - val_acc: 0.4110\n",
            "Epoch 20/30\n",
            "4786/4786 [==============================] - 5s 1ms/step - loss: 0.0371 - acc: 0.9868 - val_loss: 7.0321 - val_acc: 0.3801\n",
            "Epoch 21/30\n",
            "4786/4786 [==============================] - 5s 1ms/step - loss: 0.0462 - acc: 0.9860 - val_loss: 7.1842 - val_acc: 0.3860\n",
            "Epoch 22/30\n",
            "4786/4786 [==============================] - 5s 1ms/step - loss: 0.0532 - acc: 0.9839 - val_loss: 7.6606 - val_acc: 0.3651\n",
            "Epoch 23/30\n",
            "4786/4786 [==============================] - 6s 1ms/step - loss: 0.0546 - acc: 0.9820 - val_loss: 6.2747 - val_acc: 0.3960\n",
            "Epoch 24/30\n",
            "4786/4786 [==============================] - 5s 1ms/step - loss: 0.0308 - acc: 0.9898 - val_loss: 7.1414 - val_acc: 0.3843\n",
            "Epoch 25/30\n",
            "4786/4786 [==============================] - 5s 1ms/step - loss: 0.0649 - acc: 0.9795 - val_loss: 6.9453 - val_acc: 0.3960\n",
            "Epoch 26/30\n",
            "4786/4786 [==============================] - 5s 1ms/step - loss: 0.1207 - acc: 0.9636 - val_loss: 7.3883 - val_acc: 0.3626\n",
            "Epoch 27/30\n",
            "4786/4786 [==============================] - 6s 1ms/step - loss: 0.0744 - acc: 0.9770 - val_loss: 6.7585 - val_acc: 0.3868\n",
            "Epoch 28/30\n",
            "4786/4786 [==============================] - 6s 1ms/step - loss: 0.0412 - acc: 0.9881 - val_loss: 6.8219 - val_acc: 0.3784\n",
            "Epoch 29/30\n",
            "4786/4786 [==============================] - 5s 1ms/step - loss: 0.0211 - acc: 0.9935 - val_loss: 7.6512 - val_acc: 0.3484\n",
            "Epoch 30/30\n",
            "4786/4786 [==============================] - 5s 1ms/step - loss: 0.0184 - acc: 0.9941 - val_loss: 7.2518 - val_acc: 0.3718\n"
          ],
          "name": "stdout"
        },
        {
          "output_type": "execute_result",
          "data": {
            "text/plain": [
              "<keras.callbacks.History at 0x7f92195cbe80>"
            ]
          },
          "metadata": {
            "tags": []
          },
          "execution_count": 123
        }
      ]
    },
    {
      "cell_type": "code",
      "metadata": {
        "id": "6peSW4gBTkrC",
        "colab_type": "code",
        "colab": {}
      },
      "source": [
        "from keras.models import Model\n",
        "from keras.applications.vgg16 import VGG16,preprocess_input"
      ],
      "execution_count": 0,
      "outputs": []
    },
    {
      "cell_type": "code",
      "metadata": {
        "id": "7RbiOlvPWrw1",
        "colab_type": "code",
        "colab": {}
      },
      "source": [
        "vgg=VGG16(input_shape=[100,100]+[3],weights='imagenet',include_top=False)"
      ],
      "execution_count": 0,
      "outputs": []
    },
    {
      "cell_type": "code",
      "metadata": {
        "id": "hfkPF24DXDYF",
        "colab_type": "code",
        "colab": {
          "base_uri": "https://localhost:8080/",
          "height": 286
        },
        "outputId": "0ccb42ad-4974-4cd0-d017-3c9c16cf56d5"
      },
      "source": [
        "img=X[45]\n",
        "plt.imshow(img)"
      ],
      "execution_count": 177,
      "outputs": [
        {
          "output_type": "execute_result",
          "data": {
            "text/plain": [
              "<matplotlib.image.AxesImage at 0x7f9216ec5c18>"
            ]
          },
          "metadata": {
            "tags": []
          },
          "execution_count": 177
        },
        {
          "output_type": "display_data",
          "data": {
            "image/png": "[encoded data removed]",
            "text/plain": [
              "<Figure size 432x288 with 1 Axes>"
            ]
          },
          "metadata": {
            "tags": []
          }
        }
      ]
    },
    {
      "cell_type": "code",
      "metadata": {
        "id": "bJ8gAnnOXXos",
        "colab_type": "code",
        "colab": {
          "base_uri": "https://localhost:8080/",
          "height": 74
        },
        "outputId": "14797d0c-c5f4-454b-84a0-b9fb8f9a18c4"
      },
      "source": [
        "img = image.load_img('/content/drive/My Drive/Colab Notebooks/dataset/Train Images/'+train['Image'][566],grayscale=True)"
      ],
      "execution_count": 70,
      "outputs": [
        {
          "output_type": "stream",
          "text": [
            "/usr/local/lib/python3.6/dist-packages/keras_preprocessing/image/utils.py:104: UserWarning: grayscale is deprecated. Please use color_mode = \"grayscale\"\n",
            "  warnings.warn('grayscale is deprecated. Please use '\n"
          ],
          "name": "stderr"
        }
      ]
    },
    {
      "cell_type": "code",
      "metadata": {
        "id": "ZYhsnbozXrnV",
        "colab_type": "code",
        "colab": {
          "base_uri": "https://localhost:8080/",
          "height": 286
        },
        "outputId": "fd4bfec2-c7e1-4159-dead-ad79800cea85"
      },
      "source": [
        "plt.imshow(img)"
      ],
      "execution_count": 71,
      "outputs": [
        {
          "output_type": "execute_result",
          "data": {
            "text/plain": [
              "<matplotlib.image.AxesImage at 0x7f93fad5dda0>"
            ]
          },
          "metadata": {
            "tags": []
          },
          "execution_count": 71
        },
        {
          "output_type": "display_data",
          "data": {
            "image/png": "[encoded data removed]",
            "text/plain": [
              "<Figure size 432x288 with 1 Axes>"
            ]
          },
          "metadata": {
            "tags": []
          }
        }
      ]
    },
    {
      "cell_type": "code",
      "metadata": {
        "id": "lk3-BdNYXuL3",
        "colab_type": "code",
        "colab": {
          "base_uri": "https://localhost:8080/",
          "height": 173
        },
        "outputId": "adfb855d-4f7c-4309-a33c-e587d48e9455"
      },
      "source": [
        "img.shape"
      ],
      "execution_count": 65,
      "outputs": [
        {
          "output_type": "error",
          "ename": "AttributeError",
          "evalue": "ignored",
          "traceback": [
            "\u001b[0;31m---------------------------------------------------------------------------\u001b[0m",
            "\u001b[0;31mAttributeError\u001b[0m                            Traceback (most recent call last)",
            "\u001b[0;32m<ipython-input-65-32ad6cb7aa56>\u001b[0m in \u001b[0;36m<module>\u001b[0;34m()\u001b[0m\n\u001b[0;32m----> 1\u001b[0;31m \u001b[0mimg\u001b[0m\u001b[0;34m.\u001b[0m\u001b[0mshape\u001b[0m\u001b[0;34m\u001b[0m\u001b[0;34m\u001b[0m\u001b[0m\n\u001b[0m",
            "\u001b[0;31mAttributeError\u001b[0m: 'JpegImageFile' object has no attribute 'shape'"
          ]
        }
      ]
    },
    {
      "cell_type": "code",
      "metadata": {
        "id": "9ZtNfsUsXwa-",
        "colab_type": "code",
        "colab": {}
      },
      "source": [
        "for layer in vgg.layers[:8]:\n",
        "  layer.trainable=False"
      ],
      "execution_count": 0,
      "outputs": []
    },
    {
      "cell_type": "code",
      "metadata": {
        "id": "7ac9c5HNZnBP",
        "colab_type": "code",
        "colab": {
          "base_uri": "https://localhost:8080/",
          "height": 74
        },
        "outputId": "af9659e2-d09d-4271-bc87-4adf5a7eb7d9"
      },
      "source": [
        "x=Flatten()(vgg.output)\n",
        "predictions=Dense(units=4,activation='softmax')(x)\n",
        "model=Model(input=vgg.input,output=predictions)"
      ],
      "execution_count": 191,
      "outputs": [
        {
          "output_type": "stream",
          "text": [
            "/usr/local/lib/python3.6/dist-packages/ipykernel_launcher.py:3: UserWarning: Update your `Model` call to the Keras 2 API: `Model(inputs=Tensor(\"in..., outputs=Tensor(\"de...)`\n",
            "  This is separate from the ipykernel package so we can avoid doing imports until\n"
          ],
          "name": "stderr"
        }
      ]
    },
    {
      "cell_type": "code",
      "metadata": {
        "id": "TlYjH9BhaUKa",
        "colab_type": "code",
        "colab": {}
      },
      "source": [
        "model.compile(optimizer='adam',loss='categorical_crossentropy',metrics=['accuracy'])"
      ],
      "execution_count": 0,
      "outputs": []
    },
    {
      "cell_type": "code",
      "metadata": {
        "id": "SV5ulrDAbryW",
        "colab_type": "code",
        "colab": {}
      },
      "source": [
        "xtrain,xtest,ytrain,ytest=train_test_split(X,y,random_state=2)"
      ],
      "execution_count": 0,
      "outputs": []
    },
    {
      "cell_type": "code",
      "metadata": {
        "id": "_aUsjhwoaq_R",
        "colab_type": "code",
        "colab": {
          "base_uri": "https://localhost:8080/",
          "height": 983
        },
        "outputId": "68bbe3ec-7ca8-436b-f0b5-7f0a31120fb1"
      },
      "source": [
        "model.fit(X,y,epochs=25,validation_split=0.2)"
      ],
      "execution_count": 193,
      "outputs": [
        {
          "output_type": "stream",
          "text": [
            "Train on 4786 samples, validate on 1197 samples\n",
            "Epoch 1/25\n",
            "4786/4786 [==============================] - 6s 1ms/step - loss: 0.9691 - acc: 0.5938 - val_loss: 0.8604 - val_acc: 0.6650\n",
            "Epoch 2/25\n",
            "4786/4786 [==============================] - 4s 871us/step - loss: 0.7782 - acc: 0.6991 - val_loss: 0.8451 - val_acc: 0.6717\n",
            "Epoch 3/25\n",
            "4786/4786 [==============================] - 4s 869us/step - loss: 0.6975 - acc: 0.7363 - val_loss: 0.8091 - val_acc: 0.6951\n",
            "Epoch 4/25\n",
            "4786/4786 [==============================] - 4s 868us/step - loss: 0.6347 - acc: 0.7578 - val_loss: 0.8651 - val_acc: 0.6675\n",
            "Epoch 5/25\n",
            "4786/4786 [==============================] - 4s 871us/step - loss: 0.5997 - acc: 0.7725 - val_loss: 0.8732 - val_acc: 0.6466\n",
            "Epoch 6/25\n",
            "4786/4786 [==============================] - 4s 870us/step - loss: 0.5517 - acc: 0.7890 - val_loss: 0.8159 - val_acc: 0.6859\n",
            "Epoch 7/25\n",
            "4786/4786 [==============================] - 4s 876us/step - loss: 0.5211 - acc: 0.8101 - val_loss: 0.8568 - val_acc: 0.6750\n",
            "Epoch 8/25\n",
            "4786/4786 [==============================] - 4s 870us/step - loss: 0.4920 - acc: 0.8234 - val_loss: 0.8244 - val_acc: 0.6834\n",
            "Epoch 9/25\n",
            "4786/4786 [==============================] - 4s 869us/step - loss: 0.4629 - acc: 0.8364 - val_loss: 0.8932 - val_acc: 0.6642\n",
            "Epoch 10/25\n",
            "4786/4786 [==============================] - 4s 868us/step - loss: 0.4458 - acc: 0.8452 - val_loss: 0.8661 - val_acc: 0.6575\n",
            "Epoch 11/25\n",
            "4786/4786 [==============================] - 4s 865us/step - loss: 0.4275 - acc: 0.8475 - val_loss: 0.8997 - val_acc: 0.6809\n",
            "Epoch 12/25\n",
            "4786/4786 [==============================] - 4s 870us/step - loss: 0.4038 - acc: 0.8629 - val_loss: 0.8883 - val_acc: 0.6750\n",
            "Epoch 13/25\n",
            "4786/4786 [==============================] - 4s 868us/step - loss: 0.3881 - acc: 0.8702 - val_loss: 0.9143 - val_acc: 0.6692\n",
            "Epoch 14/25\n",
            "4786/4786 [==============================] - 4s 872us/step - loss: 0.3698 - acc: 0.8780 - val_loss: 0.9116 - val_acc: 0.6734\n",
            "Epoch 15/25\n",
            "4786/4786 [==============================] - 4s 875us/step - loss: 0.3581 - acc: 0.8811 - val_loss: 0.8981 - val_acc: 0.6859\n",
            "Epoch 16/25\n",
            "4786/4786 [==============================] - 4s 873us/step - loss: 0.3476 - acc: 0.8836 - val_loss: 0.9318 - val_acc: 0.6608\n",
            "Epoch 17/25\n",
            "4786/4786 [==============================] - 4s 870us/step - loss: 0.3302 - acc: 0.8953 - val_loss: 0.9159 - val_acc: 0.6692\n",
            "Epoch 18/25\n",
            "4786/4786 [==============================] - 4s 871us/step - loss: 0.3214 - acc: 0.8999 - val_loss: 1.0343 - val_acc: 0.6249\n",
            "Epoch 19/25\n",
            "4786/4786 [==============================] - 4s 863us/step - loss: 0.3073 - acc: 0.9053 - val_loss: 0.9462 - val_acc: 0.6533\n",
            "Epoch 20/25\n",
            "4786/4786 [==============================] - 4s 875us/step - loss: 0.2949 - acc: 0.9143 - val_loss: 0.9717 - val_acc: 0.6708\n",
            "Epoch 21/25\n",
            "4786/4786 [==============================] - 4s 875us/step - loss: 0.2833 - acc: 0.9156 - val_loss: 0.9716 - val_acc: 0.6683\n",
            "Epoch 22/25\n",
            "4786/4786 [==============================] - 4s 867us/step - loss: 0.2756 - acc: 0.9216 - val_loss: 0.9988 - val_acc: 0.6533\n",
            "Epoch 23/25\n",
            "4786/4786 [==============================] - 4s 871us/step - loss: 0.2644 - acc: 0.9277 - val_loss: 0.9941 - val_acc: 0.6658\n",
            "Epoch 24/25\n",
            "4786/4786 [==============================] - 4s 873us/step - loss: 0.2604 - acc: 0.9277 - val_loss: 1.0020 - val_acc: 0.6508\n",
            "Epoch 25/25\n",
            "4786/4786 [==============================] - 4s 870us/step - loss: 0.2443 - acc: 0.9373 - val_loss: 1.0117 - val_acc: 0.6424\n"
          ],
          "name": "stdout"
        },
        {
          "output_type": "execute_result",
          "data": {
            "text/plain": [
              "<keras.callbacks.History at 0x7f9216d08828>"
            ]
          },
          "metadata": {
            "tags": []
          },
          "execution_count": 193
        }
      ]
    },
    {
      "cell_type": "code",
      "metadata": {
        "id": "D8FgDa35bAuj",
        "colab_type": "code",
        "colab": {
          "base_uri": "https://localhost:8080/",
          "height": 926
        },
        "outputId": "a43d72af-72bf-49fe-c3ce-07563f11ea18"
      },
      "source": [
        "model.summary()"
      ],
      "execution_count": 86,
      "outputs": [
        {
          "output_type": "stream",
          "text": [
            "Model: \"model_1\"\n",
            "_________________________________________________________________\n",
            "Layer (type)                 Output Shape              Param #   \n",
            "=================================================================\n",
            "input_1 (InputLayer)         (None, 80, 80, 3)         0         \n",
            "_________________________________________________________________\n",
            "block1_conv1 (Conv2D)        (None, 80, 80, 64)        1792      \n",
            "_________________________________________________________________\n",
            "block1_conv2 (Conv2D)        (None, 80, 80, 64)        36928     \n",
            "_________________________________________________________________\n",
            "block1_pool (MaxPooling2D)   (None, 40, 40, 64)        0         \n",
            "_________________________________________________________________\n",
            "block2_conv1 (Conv2D)        (None, 40, 40, 128)       73856     \n",
            "_________________________________________________________________\n",
            "block2_conv2 (Conv2D)        (None, 40, 40, 128)       147584    \n",
            "_________________________________________________________________\n",
            "block2_pool (MaxPooling2D)   (None, 20, 20, 128)       0         \n",
            "_________________________________________________________________\n",
            "block3_conv1 (Conv2D)        (None, 20, 20, 256)       295168    \n",
            "_________________________________________________________________\n",
            "block3_conv2 (Conv2D)        (None, 20, 20, 256)       590080    \n",
            "_________________________________________________________________\n",
            "block3_conv3 (Conv2D)        (None, 20, 20, 256)       590080    \n",
            "_________________________________________________________________\n",
            "block3_pool (MaxPooling2D)   (None, 10, 10, 256)       0         \n",
            "_________________________________________________________________\n",
            "block4_conv1 (Conv2D)        (None, 10, 10, 512)       1180160   \n",
            "_________________________________________________________________\n",
            "block4_conv2 (Conv2D)        (None, 10, 10, 512)       2359808   \n",
            "_________________________________________________________________\n",
            "block4_conv3 (Conv2D)        (None, 10, 10, 512)       2359808   \n",
            "_________________________________________________________________\n",
            "block4_pool (MaxPooling2D)   (None, 5, 5, 512)         0         \n",
            "_________________________________________________________________\n",
            "block5_conv1 (Conv2D)        (None, 5, 5, 512)         2359808   \n",
            "_________________________________________________________________\n",
            "block5_conv2 (Conv2D)        (None, 5, 5, 512)         2359808   \n",
            "_________________________________________________________________\n",
            "block5_conv3 (Conv2D)        (None, 5, 5, 512)         2359808   \n",
            "_________________________________________________________________\n",
            "block5_pool (MaxPooling2D)   (None, 2, 2, 512)         0         \n",
            "_________________________________________________________________\n",
            "flatten_8 (Flatten)          (None, 2048)              0         \n",
            "_________________________________________________________________\n",
            "dense_18 (Dense)             (None, 4)                 8196      \n",
            "=================================================================\n",
            "Total params: 14,722,884\n",
            "Trainable params: 8,196\n",
            "Non-trainable params: 14,714,688\n",
            "_________________________________________________________________\n"
          ],
          "name": "stdout"
        }
      ]
    },
    {
      "cell_type": "code",
      "metadata": {
        "id": "gIX70gNtbQUp",
        "colab_type": "code",
        "colab": {}
      },
      "source": [
        "predictions_t=model.predict(XT)  "
      ],
      "execution_count": 0,
      "outputs": []
    },
    {
      "cell_type": "code",
      "metadata": {
        "id": "rOcIh7BJgq_c",
        "colab_type": "code",
        "colab": {
          "base_uri": "https://localhost:8080/",
          "height": 163
        },
        "outputId": "b69a9ab2-8977-49de-c83e-3cde2b2ea7b4"
      },
      "source": [
        "predictions_t"
      ],
      "execution_count": 166,
      "outputs": [
        {
          "output_type": "execute_result",
          "data": {
            "text/plain": [
              "array([[3.6032912e-01, 1.1021479e-04, 5.0818735e-01, 1.3137327e-01],\n",
              "       [2.7330923e-01, 4.9398566e-04, 7.2599977e-01, 1.9710528e-04],\n",
              "       [5.5135144e-03, 1.0591112e-04, 8.7952584e-01, 1.1485478e-01],\n",
              "       ...,\n",
              "       [1.3263355e-01, 1.5122347e-04, 7.9142451e-02, 7.8807282e-01],\n",
              "       [8.3950086e-04, 1.3304353e-03, 1.8800663e-04, 9.9764204e-01],\n",
              "       [8.5485540e-02, 9.2595683e-06, 2.9399220e-03, 9.1156536e-01]],\n",
              "      dtype=float32)"
            ]
          },
          "metadata": {
            "tags": []
          },
          "execution_count": 166
        }
      ]
    },
    {
      "cell_type": "code",
      "metadata": {
        "id": "ydhSz682guKH",
        "colab_type": "code",
        "colab": {
          "base_uri": "https://localhost:8080/",
          "height": 55
        },
        "outputId": "22e410ee-c0f7-4327-a3dd-5879aa5559e5"
      },
      "source": [
        "lt2=[]\n",
        "for  lt in predictions_t:\n",
        "  x=0\n",
        "  for i in range(len(lt)):\n",
        "    if lt[i]>x:\n",
        "      ind=i\n",
        "      x=lt[i]\n",
        "  lt2.append(ind)\n",
        "print(lt2)\n",
        "\n"
      ],
      "execution_count": 185,
      "outputs": [
        {
          "output_type": "stream",
          "text": [
            "[2, 2, 2, 2, 0, 0, 1, 3, 3, 0, 1, 1, 1, 3, 2, 2, 0, 2, 3, 0, 2, 3, 0, 0, 3, 2, 2, 0, 2, 3, 0, 0, 0, 3, 3, 0, 0, 2, 2, 1, 0, 3, 0, 0, 0, 2, 0, 2, 3, 2, 2, 2, 3, 1, 2, 2, 2, 0, 1, 2, 3, 2, 1, 2, 2, 2, 2, 2, 2, 2, 1, 2, 1, 0, 0, 3, 3, 2, 2, 3, 2, 3, 2, 1, 0, 3, 3, 0, 2, 1, 2, 3, 0, 2, 3, 0, 0, 2, 1, 2, 3, 2, 3, 0, 2, 2, 1, 0, 0, 2, 1, 2, 0, 3, 2, 3, 3, 0, 1, 0, 2, 1, 2, 0, 2, 0, 2, 2, 2, 0, 0, 0, 1, 1, 2, 2, 3, 2, 2, 2, 2, 0, 1, 3, 2, 3, 0, 0, 2, 2, 3, 1, 2, 0, 2, 1, 2, 3, 2, 2, 2, 2, 0, 1, 3, 0, 0, 2, 2, 1, 0, 2, 0, 3, 0, 3, 0, 0, 2, 1, 2, 2, 3, 0, 2, 0, 3, 1, 1, 2, 2, 0, 3, 2, 2, 2, 2, 3, 2, 0, 0, 2, 1, 0, 0, 2, 3, 2, 2, 0, 3, 1, 3, 0, 2, 3, 2, 1, 0, 2, 2, 2, 3, 2, 0, 3, 1, 2, 2, 2, 2, 2, 0, 0, 0, 3, 0, 0, 3, 1, 0, 2, 2, 3, 2, 2, 2, 0, 0, 2, 2, 3, 2, 0, 0, 0, 2, 0, 2, 2, 3, 2, 2, 1, 3, 2, 3, 1, 2, 3, 0, 2, 0, 3, 2, 2, 2, 1, 2, 2, 2, 2, 2, 2, 3, 0, 2, 0, 2, 0, 2, 2, 1, 0, 0, 2, 1, 2, 0, 2, 0, 0, 3, 1, 2, 2, 2, 0, 3, 2, 1, 2, 0, 3, 2, 2, 0, 2, 3, 0, 2, 2, 2, 0, 2, 0, 2, 0, 2, 2, 1, 1, 2, 1, 0, 1, 2, 2, 2, 1, 2, 2, 0, 0, 2, 1, 2, 2, 3, 0, 1, 2, 2, 2, 0, 2, 2, 3, 2, 3, 2, 1, 3, 0, 3, 0, 1, 2, 0, 2, 2, 0, 0, 1, 3, 0, 2, 1, 0, 3, 2, 3, 2, 2, 2, 2, 2, 2, 1, 3, 0, 3, 2, 2, 2, 3, 0, 0, 3, 2, 0, 2, 3, 0, 2, 0, 2, 0, 0, 2, 3, 2, 0, 2, 3, 0, 1, 0, 2, 3, 2, 0, 2, 3, 0, 0, 3, 3, 2, 3, 2, 0, 0, 2, 2, 3, 1, 3, 0, 3, 2, 3, 3, 0, 1, 3, 3, 0, 3, 2, 2, 2, 1, 0, 2, 2, 1, 0, 2, 0, 2, 2, 3, 0, 1, 2, 2, 3, 1, 2, 0, 1, 0, 1, 2, 0, 2, 2, 2, 3, 2, 3, 2, 1, 1, 2, 0, 3, 3, 0, 3, 2, 2, 2, 1, 0, 3, 2, 2, 3, 0, 2, 3, 2, 3, 0, 1, 1, 2, 3, 0, 0, 2, 2, 3, 0, 1, 2, 3, 1, 3, 2, 1, 0, 0, 2, 3, 0, 3, 3, 0, 1, 2, 0, 2, 2, 3, 2, 3, 2, 3, 0, 2, 2, 1, 0, 2, 1, 3, 0, 2, 2, 2, 2, 3, 1, 0, 3, 0, 0, 0, 2, 3, 0, 2, 2, 2, 2, 2, 2, 3, 2, 3, 3, 1, 2, 3, 3, 0, 2, 0, 0, 2, 2, 2, 1, 0, 2, 2, 2, 3, 2, 0, 1, 3, 2, 3, 3, 3, 2, 2, 2, 3, 2, 2, 2, 2, 0, 2, 0, 1, 2, 2, 2, 3, 3, 2, 0, 3, 3, 2, 2, 2, 2, 3, 0, 0, 3, 0, 2, 3, 1, 2, 1, 3, 2, 2, 0, 2, 3, 0, 0, 2, 3, 3, 1, 0, 2, 2, 3, 2, 2, 0, 3, 2, 3, 2, 2, 2, 2, 2, 2, 2, 1, 1, 2, 1, 0, 3, 2, 0, 2, 0, 0, 0, 2, 3, 2, 3, 2, 2, 2, 0, 1, 1, 2, 0, 1, 3, 2, 1, 2, 3, 2, 2, 2, 0, 2, 2, 2, 0, 0, 3, 0, 3, 0, 2, 3, 2, 0, 0, 2, 0, 3, 0, 3, 2, 0, 2, 0, 2, 0, 3, 0, 1, 3, 2, 2, 2, 1, 0, 3, 0, 2, 1, 0, 2, 2, 2, 3, 0, 0, 0, 1, 2, 2, 0, 2, 0, 0, 2, 2, 2, 0, 0, 2, 0, 1, 2, 3, 2, 2, 3, 2, 2, 1, 2, 2, 2, 2, 0, 1, 0, 2, 2, 1, 1, 2, 0, 0, 0, 1, 2, 2, 2, 1, 0, 2, 2, 2, 0, 1, 3, 3, 3, 2, 3, 0, 2, 2, 1, 2, 0, 2, 3, 2, 2, 2, 0, 2, 2, 0, 1, 3, 2, 0, 2, 2, 2, 2, 3, 2, 2, 0, 1, 3, 2, 2, 2, 2, 2, 2, 1, 0, 2, 0, 0, 3, 1, 3, 3, 0, 3, 3, 3, 2, 3, 1, 1, 3, 2, 2, 2, 0, 1, 1, 3, 2, 3, 3, 1, 3, 2, 2, 0, 2, 2, 2, 2, 1, 2, 0, 3, 3, 1, 2, 2, 2, 3, 2, 2, 2, 2, 2, 1, 3, 2, 1, 2, 0, 2, 2, 0, 0, 2, 2, 3, 2, 2, 3, 0, 1, 2, 0, 2, 1, 1, 3, 0, 3, 3, 2, 2, 0, 1, 0, 0, 1, 0, 2, 2, 3, 3, 2, 1, 2, 0, 0, 2, 2, 3, 1, 2, 2, 3, 0, 3, 0, 0, 2, 2, 2, 1, 0, 3, 2, 2, 2, 3, 0, 3, 2, 2, 0, 1, 3, 2, 2, 3, 3, 3, 2, 0, 2, 3, 2, 2, 1, 1, 2, 2, 1, 0, 2, 0, 3, 2, 0, 0, 0, 2, 3, 2, 3, 2, 2, 2, 2, 1, 1, 2, 3, 2, 0, 3, 0, 3, 3, 2, 2, 3, 2, 1, 3, 0, 0, 2, 2, 2, 2, 0, 3, 2, 1, 3, 3, 0, 2, 2, 3, 2, 0, 2, 2, 0, 2, 1, 1, 2, 2, 2, 2, 0, 2, 3, 2, 2, 2, 0, 1, 1, 2, 0, 2, 3, 0, 2, 0, 2, 3, 0, 0, 2, 2, 1, 2, 2, 0, 0, 0, 2, 1, 2, 3, 1, 0, 1, 2, 3, 0, 2, 2, 3, 1, 2, 1, 3, 2, 0, 0, 0, 2, 3, 0, 3, 2, 1, 2, 2, 1, 1, 2, 2, 2, 2, 2, 2, 2, 0, 3, 3, 1, 2, 3, 2, 3, 3, 0, 2, 2, 3, 1, 2, 2, 0, 0, 3, 2, 2, 0, 2, 2, 0, 0, 3, 0, 3, 0, 3, 3, 2, 1, 3, 2, 1, 0, 3, 2, 0, 2, 0, 2, 3, 1, 2, 0, 0, 2, 0, 0, 2, 2, 2, 2, 1, 2, 1, 1, 0, 2, 3, 2, 3, 2, 2, 3, 0, 2, 2, 2, 2, 3, 2, 3, 0, 0, 3, 1, 2, 1, 2, 3, 0, 3, 3, 1, 0, 3, 2, 2, 0, 2, 3, 0, 2, 0, 1, 2, 0, 2, 2, 3, 0, 2, 2, 2, 2, 3, 0, 3, 2, 0, 3, 1, 1, 2, 1, 0, 3, 2, 2, 2, 2, 2, 2, 2, 0, 3, 0, 2, 0, 1, 2, 3, 2, 3, 0, 3, 0, 1, 0, 2, 2, 2, 2, 3, 0, 3, 2, 0, 2, 2, 3, 2, 0, 1, 1, 1, 0, 2, 2, 1, 0, 0, 0, 2, 3, 0, 1, 0, 1, 2, 1, 2, 2, 2, 1, 2, 3, 2, 1, 0, 1, 0, 3, 2, 1, 2, 3, 2, 1, 0, 3, 2, 2, 0, 2, 1, 2, 3, 2, 0, 3, 2, 2, 2, 2, 2, 2, 3, 0, 2, 3, 1, 2, 2, 2, 2, 2, 2, 1, 3, 3, 3, 0, 3, 0, 2, 0, 0, 2, 2, 3, 1, 0, 0, 2, 0, 2, 3, 3, 2, 2, 2, 2, 0, 0, 0, 2, 2, 2, 0, 2, 2, 2, 2, 2, 1, 0, 2, 2, 3, 2, 2, 1, 2, 1, 1, 0, 0, 0, 2, 2, 0, 2, 3, 0, 0, 3, 2, 2, 2, 2, 2, 2, 3, 1, 0, 0, 2, 0, 2, 3, 0, 0, 3, 0, 0, 2, 0, 3, 2, 2, 1, 2, 0, 2, 3, 3, 2, 2, 2, 0, 2, 0, 3, 2, 3, 2, 0, 2, 2, 2, 0, 1, 2, 1, 2, 0, 0, 2, 2, 2, 2, 3, 0, 3, 0, 0, 3, 2, 0, 1, 3, 0, 0, 2, 0, 2, 2, 0, 2, 3, 3, 2, 2, 3, 0, 2, 2, 3, 2, 0, 3, 2, 0, 2, 1, 2, 3, 2, 0, 3, 0, 2, 0, 2, 2, 2, 2, 1, 0, 3, 2, 2, 0, 1, 3, 2, 0, 2, 1, 0, 0, 2, 2, 0, 2, 2, 2, 0, 2, 1, 2, 0, 2, 1, 3, 0, 2, 0, 3, 2, 0, 2, 2, 0, 2, 1, 3, 2, 0, 2, 0, 2, 0, 3, 2, 0, 0, 2, 2, 3, 2, 0, 2, 2, 3, 3, 2, 3, 0, 1, 0, 2, 2, 3, 2, 2, 2, 3, 2, 1, 2, 0, 2, 2, 1, 0, 1, 0, 2, 3, 1, 2, 3, 2, 3, 0, 3, 2, 0, 1, 0, 2, 0, 0, 3, 1, 1, 3, 1, 2, 0, 2, 1, 2, 0, 0, 3, 0, 0, 2, 2, 2, 1, 3, 0, 1, 2, 2, 0, 2, 3, 0, 3, 2, 0, 2, 2, 3, 2, 2, 2, 2, 1, 2, 0, 3, 0, 3, 2, 3, 0, 2, 0, 0, 2, 0, 2, 3, 2, 2, 3, 2, 2, 2, 0, 0, 2, 2, 2, 2, 1, 2, 2, 2, 0, 2, 2, 2, 0, 0, 2, 2, 2, 2, 1, 3, 1, 2, 2, 2, 0, 2, 1, 2, 3, 3, 3, 0, 3, 3, 2, 3, 2, 2, 3, 2, 0, 0, 2, 2, 1, 3, 2, 2, 0, 2, 2, 2, 1, 3, 3, 3, 0, 2, 1, 3, 1, 2, 2, 0, 2, 2, 2, 0, 2, 0, 0, 2, 3, 2, 2, 3, 3, 2, 3, 3, 2, 2, 3, 2, 3, 3, 3, 2, 2, 2, 0, 0, 0, 2, 2, 3, 2, 0, 2, 2, 0, 2, 1, 0, 2, 1, 2, 1, 0, 1, 2, 1, 1, 3, 3, 2, 3, 1, 0, 2, 2, 3, 3, 0, 0, 2, 2, 1, 3, 0, 2, 1, 1, 1, 2, 2, 2, 0, 2, 2, 0, 3, 3, 0, 1, 0, 3, 3, 3, 2, 0, 2, 2, 2, 1, 0, 2, 2, 3, 2, 2, 3, 1, 2, 2, 2, 0, 2, 3, 1, 0, 2, 2, 1, 0, 1, 1, 0, 3, 2, 3, 2, 2, 3, 2, 2, 2, 1, 0, 2, 3, 0, 3, 0, 3, 0, 2, 2, 0, 2, 2, 0, 2, 2, 2, 0, 0, 2, 2, 0, 2, 2, 2, 0, 2, 2, 2, 3, 1, 2, 2, 0, 2, 0, 0, 2, 1, 2, 2, 2, 2, 2, 2, 0, 2, 3, 0, 3, 1, 3, 0, 3, 3, 2, 2, 0, 2, 3, 3, 0, 0, 3, 2, 3, 3, 2, 0, 2, 2, 3, 0, 2, 3, 2, 2, 2, 1, 3, 3, 2, 2, 3, 2, 1, 0, 2, 3, 3, 0, 0, 1, 2, 3, 3, 2, 3, 0, 2, 1, 2, 0, 2, 2, 2, 2, 3, 3, 3, 2, 0, 2, 2, 0, 2, 0, 0, 2, 2, 0, 2, 3, 2, 3, 2, 0, 2, 1, 2, 2, 3, 2, 0, 2, 2, 2, 2, 0, 2, 2, 3, 2, 0, 0, 2, 3, 0, 0, 0, 0, 3, 3, 3, 1, 0, 2, 1, 0, 3, 1, 1, 0, 3, 3, 2, 2, 2, 0, 2, 1, 0, 3, 2, 2, 0, 2, 3, 3, 1, 1, 3, 0, 2, 1, 3, 0, 2, 0, 0, 2, 1, 3, 2, 3, 0, 2, 3, 2, 2, 2, 0, 2, 0, 0, 1, 2, 1, 3, 0, 2, 3, 0, 2, 2, 1, 2, 2, 3, 3, 2, 0, 3, 2, 2, 2, 3, 0, 2, 1, 3, 3, 3, 1, 2, 2, 3, 2, 0, 2, 1, 0, 3, 2, 2, 0, 2, 0, 2, 3, 0, 2, 3, 0, 3, 2, 3, 1, 0, 1, 2, 1, 1, 2, 0, 2, 2, 2, 2, 0, 0, 2, 3, 2, 2, 2, 3, 2, 2, 0, 2, 1, 2, 2, 2, 1, 0, 2, 2, 0, 3, 3, 2, 1, 2, 2, 0, 0, 2, 2, 0, 3, 1, 2, 2, 3, 0, 1, 3, 2, 2, 1, 0, 0, 2, 3, 2, 2, 2, 1, 3, 0, 1, 0, 0, 2, 3, 0, 2, 2, 0, 1, 1, 2, 2, 3, 3, 3, 2, 0, 2, 1, 2, 1, 2, 1, 2, 2, 3, 2, 0, 0, 3, 0, 0, 0, 2, 0, 3, 1, 0, 0, 0, 2, 0, 2, 2, 3, 1, 0, 2, 3, 0, 2, 2, 2, 0, 2, 2, 3, 1, 1, 3, 0, 0, 2, 1, 0, 0, 3, 2, 2, 2, 2, 0, 1, 2, 0, 2, 2, 3, 3, 3, 2, 2, 1, 2, 3, 2, 2, 1, 0, 3, 1, 2, 1, 2, 3, 0, 2, 3, 3, 3, 3, 3, 2, 1, 2, 1, 2, 2, 2, 2, 3, 0, 2, 1, 0, 2, 3, 3, 2, 2, 3, 3, 0, 3, 0, 3, 0, 2, 3, 2, 2, 1, 1, 0, 1, 2, 0, 0, 3, 3, 0, 0, 1, 2, 1, 2, 0, 3, 0, 2, 0, 3, 3, 1, 2, 2, 0, 1, 2, 2, 2, 2, 2, 2, 2, 2, 2, 0, 1, 2, 2, 2, 0, 2, 0, 2, 2, 2, 2, 0, 0, 0, 2, 2, 2, 0, 3, 2, 2, 0, 2, 2, 3, 2, 2, 0, 0, 3, 2, 1, 1, 1, 2, 3, 0, 2, 2, 2, 2, 2, 2, 3, 2, 2, 2, 3, 2, 0, 1, 0, 3, 2, 3, 2, 0, 0, 2, 2, 3, 2, 2, 0, 2, 0, 0, 0, 3, 2, 1, 0, 2, 0, 2, 3, 3, 2, 2, 3, 2, 2, 0, 0, 0, 1, 0, 2, 1, 2, 3, 3, 2, 2, 3, 3, 0, 2, 0, 3, 3, 3, 0, 0, 0, 0, 0, 1, 2, 0, 1, 2, 0, 2, 3, 3, 0, 2, 2, 1, 3, 2, 2, 2, 3, 2, 2, 3, 1, 1, 2, 2, 2, 3, 2, 2, 0, 3, 1, 2, 3, 0, 1, 2, 2, 2, 1, 2, 0, 2, 2, 2, 2, 2, 1, 3, 2, 2, 0, 3, 2, 0, 0, 2, 0, 3, 0, 0, 2, 2, 2, 0, 0, 2, 2, 2, 2, 2, 3, 2, 1, 2, 0, 2, 2, 2, 2, 2, 2, 0, 2, 1, 3, 2, 3, 2, 2, 2, 2, 3, 2, 0, 1, 3, 3, 2, 2, 2, 0, 0, 2, 2, 0, 0, 3, 3, 2, 1, 2, 3, 0, 3, 3, 2, 3, 0, 3, 2, 2, 2, 0, 2, 1, 0, 0, 3, 0, 0, 1, 2, 3, 0, 3, 2, 2, 2, 2, 2, 0, 3, 3, 1, 2, 2, 0, 1, 2, 0, 0, 1, 3, 0, 3, 0, 0, 0, 2, 3, 2, 2, 3, 0, 1, 2, 0, 2, 0, 2, 1, 3, 2, 2, 3, 3, 2, 0, 0, 2, 2, 2, 2, 3, 3, 2, 0, 3, 2, 2, 2, 3, 0, 3, 2, 0, 2, 2, 2, 0, 2, 2, 0, 2, 2, 2, 1, 2, 2, 2, 0, 2, 0, 0, 2, 2, 2, 0, 2, 0, 0, 1, 2, 0, 1, 1, 3, 0, 2, 3, 2, 3, 2, 0, 2, 2, 0, 3, 2, 2, 0, 2, 1, 2, 0, 3, 2, 2, 0, 2, 3, 0, 1, 2, 3, 0, 3, 0, 1, 3, 0, 3, 0, 2, 2, 2, 3, 0, 0, 0, 2, 0, 3, 3, 2, 1, 1, 2, 3, 2, 2, 2, 1, 2, 2, 0, 2, 3, 2, 2, 2, 2, 2, 2, 2, 3, 3, 2, 2, 3, 0, 3, 2, 3, 1, 0, 3, 2, 2, 2, 2, 3, 2, 2, 3, 3, 0, 3, 1, 2, 0, 0, 3, 0, 2, 0, 0, 0, 3, 0, 0, 2, 1, 1, 2, 0, 1, 1, 2, 2, 3, 3, 2, 3, 2, 3, 1, 2, 3, 2, 1, 3, 2, 2, 2, 3, 2, 0, 2, 0, 1, 2, 3, 1, 2, 2, 2, 2, 3, 3, 3, 2, 2, 3, 0, 2, 2, 0, 0, 1, 2, 0, 0, 3, 0, 0, 1, 3, 0, 0, 2, 3, 2, 0, 2, 1, 2, 2, 3, 3, 0, 1, 1, 3, 0, 2, 2, 0, 2, 3, 2, 0, 2, 3, 3, 0, 0, 1, 0, 2, 2, 3, 0, 1, 2, 2, 3, 0, 0, 2, 1, 2, 2, 2, 2, 0, 1, 3, 0, 2, 2, 1, 3, 2, 1, 1, 1, 0, 0, 2, 0, 0, 0, 2, 1, 2, 2, 0, 1, 3, 0, 2, 2, 2, 3, 2, 3, 2, 3, 0, 1, 2, 2, 3, 2, 2, 3, 3, 3, 0, 3, 1, 0, 2, 1, 0, 1, 0, 1, 2, 3, 2, 2, 0, 0, 3, 0, 0, 2, 3, 2, 3, 2, 1, 2, 2, 2, 0, 2, 2, 2, 0, 2, 1, 0, 0, 2, 3, 3, 2, 3, 3, 0, 3, 2, 2, 1, 2, 1, 1, 2, 2, 0, 2, 2, 0, 1, 0, 2, 0, 0, 2, 1, 2, 3, 2, 0, 2, 0, 1, 2, 0, 0, 0, 3, 0, 3, 2, 2, 2, 2, 0, 3, 0, 3, 0, 2, 3, 2, 0, 1, 0, 0, 3, 2, 2, 2, 2, 2, 2, 2, 2, 2, 0, 2, 2, 2, 2, 2, 3, 0, 2, 2, 2, 3, 1, 2, 1, 2, 0, 1, 2, 2, 2, 3, 3, 3, 2, 1, 3, 2, 0, 3, 2, 2, 2, 2, 0, 1, 2, 3, 2, 2, 2, 0, 0, 2, 0, 3, 0, 3, 2, 2, 1, 2, 3, 0, 0, 2, 0, 2, 2, 0, 2, 2, 3, 0, 0, 2, 2, 3, 2, 3, 3, 1, 0, 0, 3, 3, 0, 1, 0, 3, 2, 2, 2, 0, 2, 3, 0, 1, 2, 2, 0, 1, 0, 0, 3, 3, 2, 3, 3, 3, 3, 2, 2, 0, 0, 1, 1, 0, 3, 1, 1, 0, 2, 2, 1, 0, 0, 3, 2, 0, 2, 0, 2, 1, 2, 3, 2, 0, 2, 0, 1, 2, 2, 3, 3, 2, 1, 1, 0, 3, 0, 0, 3, 2, 2, 3, 0, 3, 1, 0, 3, 2, 3, 2, 2, 2, 3, 1, 1, 3, 2, 0, 2, 0, 2, 3, 2, 0, 1, 2, 1, 1, 2, 3, 2, 2, 1, 3, 3, 3, 2, 2, 0, 0, 2, 0, 2, 0, 3, 1, 3, 2, 0, 3, 2, 2, 3, 1, 2, 1, 3, 0, 1, 3, 3, 0, 2, 3, 3, 3]\n"
          ],
          "name": "stdout"
        }
      ]
    },
    {
      "cell_type": "code",
      "metadata": {
        "id": "t33NgSZyhh6D",
        "colab_type": "code",
        "colab": {
          "base_uri": "https://localhost:8080/",
          "height": 54
        },
        "outputId": "0180b5fc-a94a-4473-c486-6ccbcdd0e47d"
      },
      "source": [
        "print(len(predictions_t))\n",
        "print(len(lt2))"
      ],
      "execution_count": 186,
      "outputs": [
        {
          "output_type": "stream",
          "text": [
            "3219\n",
            "3219\n"
          ],
          "name": "stdout"
        }
      ]
    },
    {
      "cell_type": "code",
      "metadata": {
        "id": "XT87LJOmhoyS",
        "colab_type": "code",
        "colab": {}
      },
      "source": [
        "lt3=[]\n",
        "for i in lt2:\n",
        "  if i==2:\n",
        "    lt3.append('Food')\n",
        "  elif i==0:\n",
        "    lt3.append('Attire')\n",
        "  elif i==3:\n",
        "    lt3.append('misc')\n",
        "  else :\n",
        "    lt3.append('Decorationandsignage')\n"
      ],
      "execution_count": 0,
      "outputs": []
    },
    {
      "cell_type": "code",
      "metadata": {
        "id": "Ql4l-faki0vO",
        "colab_type": "code",
        "colab": {}
      },
      "source": [
        "submit=pd.DataFrame()\n",
        "submit['Image']=test['Image']\n",
        "submit['Class']=lt3"
      ],
      "execution_count": 0,
      "outputs": []
    },
    {
      "cell_type": "code",
      "metadata": {
        "id": "jKwrb-gvjMxO",
        "colab_type": "code",
        "colab": {
          "base_uri": "https://localhost:8080/",
          "height": 198
        },
        "outputId": "2b5283ab-e6c4-40fa-f55a-62f4d7429ff0"
      },
      "source": [
        "submit.head()"
      ],
      "execution_count": 171,
      "outputs": [
        {
          "output_type": "execute_result",
          "data": {
            "text/html": [
              "<div>\n",
              "<style scoped>\n",
              "    .dataframe tbody tr th:only-of-type {\n",
              "        vertical-align: middle;\n",
              "    }\n",
              "\n",
              "    .dataframe tbody tr th {\n",
              "        vertical-align: top;\n",
              "    }\n",
              "\n",
              "    .dataframe thead th {\n",
              "        text-align: right;\n",
              "    }\n",
              "</style>\n",
              "<table border=\"1\" class=\"dataframe\">\n",
              "  <thead>\n",
              "    <tr style=\"text-align: right;\">\n",
              "      <th></th>\n",
              "      <th>Image</th>\n",
              "      <th>Class</th>\n",
              "    </tr>\n",
              "  </thead>\n",
              "  <tbody>\n",
              "    <tr>\n",
              "      <th>0</th>\n",
              "      <td>image6245.jpg</td>\n",
              "      <td>Food</td>\n",
              "    </tr>\n",
              "    <tr>\n",
              "      <th>1</th>\n",
              "      <td>image10409.jpg</td>\n",
              "      <td>Food</td>\n",
              "    </tr>\n",
              "    <tr>\n",
              "      <th>2</th>\n",
              "      <td>image8692.jpg</td>\n",
              "      <td>Food</td>\n",
              "    </tr>\n",
              "    <tr>\n",
              "      <th>3</th>\n",
              "      <td>image10517.jpg</td>\n",
              "      <td>Food</td>\n",
              "    </tr>\n",
              "    <tr>\n",
              "      <th>4</th>\n",
              "      <td>image2580.jpg</td>\n",
              "      <td>Attire</td>\n",
              "    </tr>\n",
              "  </tbody>\n",
              "</table>\n",
              "</div>"
            ],
            "text/plain": [
              "            Image   Class\n",
              "0   image6245.jpg    Food\n",
              "1  image10409.jpg    Food\n",
              "2   image8692.jpg    Food\n",
              "3  image10517.jpg    Food\n",
              "4   image2580.jpg  Attire"
            ]
          },
          "metadata": {
            "tags": []
          },
          "execution_count": 171
        }
      ]
    },
    {
      "cell_type": "code",
      "metadata": {
        "id": "GRTU0_-OjOYz",
        "colab_type": "code",
        "colab": {}
      },
      "source": [
        "submit.to_csv('submission4.csv',index=False)"
      ],
      "execution_count": 0,
      "outputs": []
    },
    {
      "cell_type": "code",
      "metadata": {
        "id": "8jq9GfN0jbMU",
        "colab_type": "code",
        "colab": {}
      },
      "source": [
        ""
      ],
      "execution_count": 0,
      "outputs": []
    }
  ]
}